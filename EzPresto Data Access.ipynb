{
 "cells": [
  {
   "cell_type": "code",
   "execution_count": null,
   "id": "8aea206f-af4a-49f3-941f-fe7627b4100d",
   "metadata": {
    "tags": []
   },
   "outputs": [],
   "source": [
    "import warnings\n",
    "warnings.filterwarnings('ignore')"
   ]
  },
  {
   "cell_type": "markdown",
   "id": "19180e04-f138-4af9-be6d-110b363392b7",
   "metadata": {
    "tags": []
   },
   "source": [
    "# Using sqlalchemy to query EzPresto"
   ]
  },
  {
   "cell_type": "code",
   "execution_count": null,
   "id": "d5cc6aa0-1261-4c2e-8b2b-059a49522bb6",
   "metadata": {
    "tags": []
   },
   "outputs": [],
   "source": [
    "from sqlalchemy import create_engine\n",
    "from sqlalchemy import text\n",
    "from sqlalchemy import event\n",
    " \n",
    "%update_token\n",
    " \n",
    "auth_token=os.environ[\"AUTH_TOKEN\"]\n",
    "session = requests.Session()\n",
    "session.headers[\"Authorization\"] = \"Bearer \" + f\"{auth_token}\"\n",
    " \n",
    "engine = create_engine(\n",
    "        \"presto://ezpresto-sts-mst-0.ezpresto-svc-hdl.ezpresto.svc.cluster.local:8081\",\n",
    "        connect_args={\"protocol\": \"https\",\"requests_kwargs\": {\"verify\": False}, \"requests_session\": session},\n",
    "    )"
   ]
  },
  {
   "cell_type": "code",
   "execution_count": null,
   "id": "0f893b1b-eb42-4d7c-8731-b02df24d647f",
   "metadata": {
    "tags": []
   },
   "outputs": [],
   "source": [
    "QUERY = \"SELECT * from awspsql.public.user limit 10\"\n",
    " \n",
    "with engine.connect() as connection:\n",
    "    with connection.begin():\n",
    "        # run statements in a \"begin once\" block\n",
    "        result = connection.execute(text(QUERY))\n",
    "        for row in result:\n",
    "            print(row)"
   ]
  },
  {
   "cell_type": "code",
   "execution_count": null,
   "id": "48292ec3-17ea-452a-a6a4-53e523289f95",
   "metadata": {
    "tags": []
   },
   "outputs": [],
   "source": [
    "QUERY = \"SELECT * from awspsql.public.review limit 10\"\n",
    " \n",
    "with engine.connect() as connection:\n",
    "    with connection.begin():\n",
    "        # run statements in a \"begin once\" block\n",
    "        result = connection.execute(text(QUERY))\n",
    "        for row in result:\n",
    "            print(row)"
   ]
  },
  {
   "cell_type": "markdown",
   "id": "b97e9700-def8-4080-9379-00955653d052",
   "metadata": {
    "tags": []
   },
   "source": [
    "## Write a dummy record into `review` table"
   ]
  },
  {
   "cell_type": "code",
   "execution_count": null,
   "id": "b3270dfb-e1e4-4878-9ade-f5e8e9637786",
   "metadata": {
    "tags": []
   },
   "outputs": [],
   "source": [
    "with engine.connect() as connection:\n",
    "    with connection.begin():\n",
    "        connection.execute(\n",
    "            text(\"\"\"INSERT INTO awspsql.public.review (\n",
    "                review_id,\n",
    "                user_id,\n",
    "                business_id,\n",
    "                stars,\n",
    "                useful,\n",
    "                funny,\n",
    "                cool,\n",
    "                text,\n",
    "                date)\n",
    "            VALUES (\n",
    "                :review_id,\n",
    "                :user_id,\n",
    "                :business_id,\n",
    "                :stars,\n",
    "                :useful,\n",
    "                :funny,\n",
    "                :cool,\n",
    "                :text,\n",
    "                :date\n",
    "                )\"\"\"),\n",
    "            [{\"review_id\":\"111\",\n",
    "                \"user_id\":\"111\",\n",
    "                \"business_id\":\"111\",\n",
    "                \"stars\":5,\n",
    "                \"useful\":5,\n",
    "                \"funny\":5,\n",
    "                \"cool\":5,\n",
    "                \"text\":\"Awesome demo\",\n",
    "                \"date\": None}],\n",
    "        )"
   ]
  },
  {
   "cell_type": "code",
   "execution_count": null,
   "id": "e54af81e-e061-480c-b364-02edf853a205",
   "metadata": {
    "tags": []
   },
   "outputs": [],
   "source": [
    "QUERY = \"SELECT * from awspsql.public.review where review_id='111'\"\n",
    " \n",
    "with engine.connect() as connection:\n",
    "    with connection.begin():\n",
    "        result = connection.execute(text(QUERY))\n",
    "        for row in result:\n",
    "            print(row)"
   ]
  },
  {
   "cell_type": "markdown",
   "id": "c5b86f81-f497-4177-b563-98d8adda8f27",
   "metadata": {
    "tags": []
   },
   "source": [
    "# Using Spark to Query EzPresto\n",
    "Switch to a pyspark kernel for running this section"
   ]
  },
  {
   "cell_type": "code",
   "execution_count": null,
   "id": "7adc6b8a-732d-42c0-b427-a9daf75a1465",
   "metadata": {
    "tags": []
   },
   "outputs": [],
   "source": [
    "%manage_spark"
   ]
  },
  {
   "cell_type": "code",
   "execution_count": null,
   "id": "7aab9f4d-7b69-4f44-8d30-c1567d0b9093",
   "metadata": {
    "tags": []
   },
   "outputs": [],
   "source": [
    "dfReader = spark.read.format(\"EzPresto\")\n",
    "dfReader.option(\"presto_url\", \"https://ezpresto-sts-mst-0.ezpresto-svc-hdl.ezpresto.svc.cluster.local:8081\")\n",
    "dfReader.option(\"dal_url\", \"https://ezpresto-sts-mst-0.ezpresto-svc-hdl.ezpresto.svc.cluster.local:9090\")\n",
    "dfReader.option(\"ignore_ssl_check\", \"true\")\n",
    "dfReader.option(\"query\", \"select * from awspsql.public.user limit 10\")\n",
    "\n",
    "df = dfReader.load()\n",
    "df.show()"
   ]
  },
  {
   "cell_type": "code",
   "execution_count": null,
   "id": "9bcd2603-bde0-4c9a-b031-0c92bd4d6ee4",
   "metadata": {
    "tags": []
   },
   "outputs": [],
   "source": [
    "dfReader = spark.read.format(\"EzPresto\")\n",
    "dfReader.option(\"presto_url\", \"https://ezpresto-sts-mst-0.ezpresto-svc-hdl.ezpresto.svc.cluster.local:8081\")\n",
    "dfReader.option(\"dal_url\", \"https://ezpresto-sts-mst-0.ezpresto-svc-hdl.ezpresto.svc.cluster.local:9090\")\n",
    "dfReader.option(\"ignore_ssl_check\", \"true\")\n",
    "dfReader.option(\"query\", \"select * from awspsql.public.review limit 10\")\n",
    "\n",
    "df = dfReader.load()\n",
    "df.show()"
   ]
  }
 ],
 "metadata": {
  "kernelspec": {
   "display_name": "Python 3 (ipykernel)",
   "language": "python",
   "name": "python3"
  },
  "language_info": {
   "codemirror_mode": {
    "name": "ipython",
    "version": 3
   },
   "file_extension": ".py",
   "mimetype": "text/x-python",
   "name": "python",
   "nbconvert_exporter": "python",
   "pygments_lexer": "ipython3",
   "version": "3.11.6"
  }
 },
 "nbformat": 4,
 "nbformat_minor": 5
}
